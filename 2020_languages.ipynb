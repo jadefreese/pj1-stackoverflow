{
 "metadata": {
  "language_info": {
   "codemirror_mode": {
    "name": "ipython",
    "version": 3
   },
   "file_extension": ".py",
   "mimetype": "text/x-python",
   "name": "python",
   "nbconvert_exporter": "python",
   "pygments_lexer": "ipython3",
   "version": "3.9.4"
  },
  "orig_nbformat": 2,
  "kernelspec": {
   "name": "python394jvsc74a57bd0fc2b9b8e7ffc55491203f57f14c59c77deaf23810082ba77383500414caf9122",
   "display_name": "Python 3.9.4 64-bit"
  },
  "metadata": {
   "interpreter": {
    "hash": "fc2b9b8e7ffc55491203f57f14c59c77deaf23810082ba77383500414caf9122"
   }
  }
 },
 "nbformat": 4,
 "nbformat_minor": 2,
 "cells": [
  {
   "source": [
    "Read in the cleaned data and schema"
   ],
   "cell_type": "markdown",
   "metadata": {}
  },
  {
   "cell_type": "code",
   "execution_count": null,
   "metadata": {},
   "outputs": [],
   "source": [
    "import numpy as np\n",
    "import pandas as pd\n",
    "from IPython import display\n",
    "import matplotlib.pyplot as plt\n",
    "from sklearn.linear_model import LinearRegression\n",
    "from sklearn.model_selection import train_test_split\n",
    "from sklearn.metrics import r2_score, mean_squared_error\n",
    "from collections import defaultdict\n",
    "import general_functions as gf\n",
    "%matplotlib inline\n",
    "\n",
    "df = pd.read_csv(r'C:\\\\Users\\\\Jessica\\\\Desktop\\\\School\\\\Udacity Data Science\\\\Lesson 1 - Data Science Process\\\\Project 1\\\\reduced_data.csv', sep = ',', error_bad_lines = False, index_col = False)\n",
    "df_schem = pd.read_csv(r'C:\\\\Users\\\\Jessica\\\\Desktop\\\\School\\\\Udacity Data Science\\\\Lesson 1 - Data Science Process\\\\Project 1\\\\reduced_data_schema.csv', sep = ',', error_bad_lines = False, index_col = False)"
   ]
  },
  {
   "source": [
    "Create list of possible languages used in 2020"
   ],
   "cell_type": "markdown",
   "metadata": {}
  },
  {
   "cell_type": "code",
   "execution_count": null,
   "metadata": {},
   "outputs": [],
   "source": [
    "lang_used = ['Assembly','Bash/Shell/PowerShell','C','C#','C++','Dart','Go','Haskell','HTML/CSS','Java','JavaScript','Julia','Kotlin',              'Objective-C','Perl','PHP','Python','R','Ruby','Rust','Scala','SQL','Swift','TypeScript','VBA','Other']"
   ]
  },
  {
   "source": [
    "Create data frame of languages used sorted by total count and graph the results"
   ],
   "cell_type": "markdown",
   "metadata": {}
  },
  {
   "cell_type": "code",
   "execution_count": null,
   "metadata": {},
   "outputs": [],
   "source": [
    "lang = df['LanguageWorkedWith'].value_counts().reset_index()\n",
    "lang.rename(columns = {'index':'language','LanguageWorkedWith':'count'}, inplace = True)\n",
    "lang_df = gf.total_count(lang,'language','count',lang_used)\n",
    "gf.bar_plotting(lang_df,'Languages Worked With',plot = True)"
   ]
  },
  {
   "source": [
    "Create function to reassign ages in to bins containing a certain age range"
   ],
   "cell_type": "markdown",
   "metadata": {}
  },
  {
   "cell_type": "code",
   "execution_count": null,
   "metadata": {},
   "outputs": [],
   "source": [
    "def age_bins(age):\n",
    "    \n",
    "    if age < 10 :\n",
    "        return 'Under 10 Years'\n",
    "    elif age >= 10 and age < 20:\n",
    "        return '10-19 Years'\n",
    "    elif age >= 20 and age < 30:\n",
    "        return '20-29 Years'\n",
    "    elif age >= 30 and age < 40:\n",
    "        return '30-39 Years'\n",
    "    elif age >= 40 and age < 50:\n",
    "        return '40-49 Years'\n",
    "    elif age >= 50 and age < 60:\n",
    "        return '50-59 Years'\n",
    "    elif age >= 60 and age < 70:\n",
    "        return '60-69 Years'\n",
    "    elif age >= 70 and age < 80:\n",
    "        return '70-79 Years'\n",
    "    else:\n",
    "        return 'Over 80 Years'"
   ]
  },
  {
   "source": [
    "Create a new data frame sorted by the count of individuals in each age range and graph"
   ],
   "cell_type": "markdown",
   "metadata": {}
  },
  {
   "cell_type": "code",
   "execution_count": null,
   "metadata": {},
   "outputs": [],
   "source": [
    "age_df = df['Age'].apply(age_bins).value_counts().reset_index()\n",
    "age_df.rename(columns = {'index':'age','Age':'count'}, inplace = True)\n",
    "gf.bar_plotting(age_df,'Age',plot = True)"
   ]
  },
  {
   "source": [
    "Add a new column to the original data frame to include the age ranges"
   ],
   "cell_type": "markdown",
   "metadata": {}
  },
  {
   "cell_type": "code",
   "execution_count": null,
   "metadata": {},
   "outputs": [],
   "source": [
    "df['AgeRanges'] = df['Age'].apply(age_bins)"
   ]
  },
  {
   "source": [
    "Create data frames filtered by each age range"
   ],
   "cell_type": "markdown",
   "metadata": {}
  },
  {
   "cell_type": "code",
   "execution_count": null,
   "metadata": {},
   "outputs": [],
   "source": [
    "range_1 = gf.percentage_breakdown(df[df['AgeRanges'] == 'Under 10 Years'], lang_used, 'LanguageWorkedWith', 'Under 10 Years')\n",
    "range_2 = gf.percentage_breakdown(df[df['AgeRanges'] == '10-19 Years'], lang_used, 'LanguageWorkedWith', '10-19 Years')\n",
    "range_3 = gf.percentage_breakdown(df[df['AgeRanges'] == '20-29 Years'], lang_used, 'LanguageWorkedWith', '20-29 Years')\n",
    "range_4 = gf.percentage_breakdown(df[df['AgeRanges'] == '30-39 Years'], lang_used, 'LanguageWorkedWith', '30-39 Years')\n",
    "range_5 = gf.percentage_breakdown(df[df['AgeRanges'] == '40-49 Years'], lang_used, 'LanguageWorkedWith', '40-49 Years')\n",
    "range_6 = gf.percentage_breakdown(df[df['AgeRanges'] == '50-59 Years'], lang_used, 'LanguageWorkedWith', '50-59 Years')\n",
    "range_7 = gf.percentage_breakdown(df[df['AgeRanges'] == '60-69 Years'], lang_used, 'LanguageWorkedWith', '60-69 Years')\n",
    "range_8 = gf.percentage_breakdown(df[df['AgeRanges'] == '70-79 Years'], lang_used, 'LanguageWorkedWith', '70-79 Years')\n",
    "range_9 = gf.percentage_breakdown(df[df['AgeRanges'] == 'Over 80 Years'], lang_used, 'LanguageWorkedWith', 'Over 80 Years')"
   ]
  },
  {
   "source": [
    "Create a table of the top language used by each age range"
   ],
   "cell_type": "markdown",
   "metadata": {}
  },
  {
   "cell_type": "code",
   "execution_count": null,
   "metadata": {},
   "outputs": [],
   "source": [
    "list_of_ranges = [range_1, range_2, range_3, range_4, range_5, range_6, range_7, range_8, range_9]\n",
    "top_lang_by_age = pd.DataFrame(columns = ['Age Range','Most Used Language'])\n",
    "top_lang_by_age = gf.add_top_per_cat(top_lang_by_age, list_of_ranges)\n",
    "top_lang_by_age"
   ]
  },
  {
   "source": [
    "Create a table comparing the percentage breakdown of each language worked with by age range and compare to the total breakdown"
   ],
   "cell_type": "markdown",
   "metadata": {}
  },
  {
   "cell_type": "code",
   "execution_count": null,
   "metadata": {},
   "outputs": [],
   "source": [
    "comp_df = pd.merge(range_1, range_2, left_index = True, right_index = True)\n",
    "comp_df.columns = ['Under 10 Years', '10-19 Years']\n",
    "for x in list_of_ranges[2:]:\n",
    "    comp_df[x.columns[0]] = x\n",
    "comp_df['Total'] = gf.percentage_breakdown(df, lang_used, 'LanguageWorkedWith', 'Total')\n",
    "comp_df = comp_df.sort_values(by = ['Total'], ascending = False)\n",
    "comp_df = comp_df.style.apply(lambda x: ['background: green' if v >= (1.5*x.iloc[-1]) \n",
    "                                                             else ('background: yellow' if v >= (1.25*x.iloc[-1]) \n",
    "                                                             else ('background: red' if v <= (0.75*x.iloc[-1]) \n",
    "                                                                   else '')) for v in x], axis = 1)\n",
    "comp_df"
   ]
  },
  {
   "cell_type": "code",
   "execution_count": null,
   "metadata": {},
   "outputs": [],
   "source": []
  }
 ]
}