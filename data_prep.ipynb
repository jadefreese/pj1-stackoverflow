{
 "metadata": {
  "language_info": {
   "codemirror_mode": {
    "name": "ipython",
    "version": 3
   },
   "file_extension": ".py",
   "mimetype": "text/x-python",
   "name": "python",
   "nbconvert_exporter": "python",
   "pygments_lexer": "ipython3",
   "version": "3.9.4"
  },
  "orig_nbformat": 2,
  "kernelspec": {
   "name": "python394jvsc74a57bd0fc2b9b8e7ffc55491203f57f14c59c77deaf23810082ba77383500414caf9122",
   "display_name": "Python 3.9.4 64-bit"
  },
  "metadata": {
   "interpreter": {
    "hash": "fc2b9b8e7ffc55491203f57f14c59c77deaf23810082ba77383500414caf9122"
   }
  }
 },
 "nbformat": 4,
 "nbformat_minor": 2,
 "cells": [
  {
   "source": [
    "Read in the Data and the Schema"
   ],
   "cell_type": "markdown",
   "metadata": {}
  },
  {
   "cell_type": "code",
   "execution_count": 19,
   "metadata": {},
   "outputs": [
    {
     "output_type": "execute_result",
     "data": {
      "text/plain": [
       "   Respondent                                         MainBranch Hobbyist  \\\n",
       "0           1                     I am a developer by profession      Yes   \n",
       "1           2                     I am a developer by profession       No   \n",
       "2           3                        I code primarily as a hobby      Yes   \n",
       "3           4                     I am a developer by profession      Yes   \n",
       "4           5  I used to be a developer by profession, but no...      Yes   \n",
       "\n",
       "    Age Age1stCode CompFreq  CompTotal  ConvertedComp             Country  \\\n",
       "0   NaN         13  Monthly        NaN            NaN             Germany   \n",
       "1   NaN         19      NaN        NaN            NaN      United Kingdom   \n",
       "2   NaN         15      NaN        NaN            NaN  Russian Federation   \n",
       "3  25.0         18      NaN        NaN            NaN             Albania   \n",
       "4  31.0         16      NaN        NaN            NaN       United States   \n",
       "\n",
       "     CurrencyDesc  ...                  SurveyEase           SurveyLength  \\\n",
       "0   European Euro  ...  Neither easy nor difficult  Appropriate in length   \n",
       "1  Pound sterling  ...                         NaN                    NaN   \n",
       "2             NaN  ...  Neither easy nor difficult  Appropriate in length   \n",
       "3    Albanian lek  ...                         NaN                    NaN   \n",
       "4             NaN  ...                        Easy              Too short   \n",
       "\n",
       "  Trans                                     UndergradMajor  \\\n",
       "0    No  Computer science, computer engineering, or sof...   \n",
       "1   NaN  Computer science, computer engineering, or sof...   \n",
       "2   NaN                                                NaN   \n",
       "3    No  Computer science, computer engineering, or sof...   \n",
       "4    No  Computer science, computer engineering, or sof...   \n",
       "\n",
       "  WebframeDesireNextYear    WebframeWorkedWith  \\\n",
       "0           ASP.NET Core  ASP.NET;ASP.NET Core   \n",
       "1                    NaN                   NaN   \n",
       "2                    NaN                   NaN   \n",
       "3                    NaN                   NaN   \n",
       "4   Django;Ruby on Rails         Ruby on Rails   \n",
       "\n",
       "                              WelcomeChange WorkWeekHrs YearsCode YearsCodePro  \n",
       "0   Just as welcome now as I felt last year        50.0        36           27  \n",
       "1  Somewhat more welcome now than last year         NaN         7            4  \n",
       "2  Somewhat more welcome now than last year         NaN         4          NaN  \n",
       "3  Somewhat less welcome now than last year        40.0         7            4  \n",
       "4   Just as welcome now as I felt last year         NaN        15            8  \n",
       "\n",
       "[5 rows x 61 columns]"
      ],
      "text/html": "<div>\n<style scoped>\n    .dataframe tbody tr th:only-of-type {\n        vertical-align: middle;\n    }\n\n    .dataframe tbody tr th {\n        vertical-align: top;\n    }\n\n    .dataframe thead th {\n        text-align: right;\n    }\n</style>\n<table border=\"1\" class=\"dataframe\">\n  <thead>\n    <tr style=\"text-align: right;\">\n      <th></th>\n      <th>Respondent</th>\n      <th>MainBranch</th>\n      <th>Hobbyist</th>\n      <th>Age</th>\n      <th>Age1stCode</th>\n      <th>CompFreq</th>\n      <th>CompTotal</th>\n      <th>ConvertedComp</th>\n      <th>Country</th>\n      <th>CurrencyDesc</th>\n      <th>...</th>\n      <th>SurveyEase</th>\n      <th>SurveyLength</th>\n      <th>Trans</th>\n      <th>UndergradMajor</th>\n      <th>WebframeDesireNextYear</th>\n      <th>WebframeWorkedWith</th>\n      <th>WelcomeChange</th>\n      <th>WorkWeekHrs</th>\n      <th>YearsCode</th>\n      <th>YearsCodePro</th>\n    </tr>\n  </thead>\n  <tbody>\n    <tr>\n      <th>0</th>\n      <td>1</td>\n      <td>I am a developer by profession</td>\n      <td>Yes</td>\n      <td>NaN</td>\n      <td>13</td>\n      <td>Monthly</td>\n      <td>NaN</td>\n      <td>NaN</td>\n      <td>Germany</td>\n      <td>European Euro</td>\n      <td>...</td>\n      <td>Neither easy nor difficult</td>\n      <td>Appropriate in length</td>\n      <td>No</td>\n      <td>Computer science, computer engineering, or sof...</td>\n      <td>ASP.NET Core</td>\n      <td>ASP.NET;ASP.NET Core</td>\n      <td>Just as welcome now as I felt last year</td>\n      <td>50.0</td>\n      <td>36</td>\n      <td>27</td>\n    </tr>\n    <tr>\n      <th>1</th>\n      <td>2</td>\n      <td>I am a developer by profession</td>\n      <td>No</td>\n      <td>NaN</td>\n      <td>19</td>\n      <td>NaN</td>\n      <td>NaN</td>\n      <td>NaN</td>\n      <td>United Kingdom</td>\n      <td>Pound sterling</td>\n      <td>...</td>\n      <td>NaN</td>\n      <td>NaN</td>\n      <td>NaN</td>\n      <td>Computer science, computer engineering, or sof...</td>\n      <td>NaN</td>\n      <td>NaN</td>\n      <td>Somewhat more welcome now than last year</td>\n      <td>NaN</td>\n      <td>7</td>\n      <td>4</td>\n    </tr>\n    <tr>\n      <th>2</th>\n      <td>3</td>\n      <td>I code primarily as a hobby</td>\n      <td>Yes</td>\n      <td>NaN</td>\n      <td>15</td>\n      <td>NaN</td>\n      <td>NaN</td>\n      <td>NaN</td>\n      <td>Russian Federation</td>\n      <td>NaN</td>\n      <td>...</td>\n      <td>Neither easy nor difficult</td>\n      <td>Appropriate in length</td>\n      <td>NaN</td>\n      <td>NaN</td>\n      <td>NaN</td>\n      <td>NaN</td>\n      <td>Somewhat more welcome now than last year</td>\n      <td>NaN</td>\n      <td>4</td>\n      <td>NaN</td>\n    </tr>\n    <tr>\n      <th>3</th>\n      <td>4</td>\n      <td>I am a developer by profession</td>\n      <td>Yes</td>\n      <td>25.0</td>\n      <td>18</td>\n      <td>NaN</td>\n      <td>NaN</td>\n      <td>NaN</td>\n      <td>Albania</td>\n      <td>Albanian lek</td>\n      <td>...</td>\n      <td>NaN</td>\n      <td>NaN</td>\n      <td>No</td>\n      <td>Computer science, computer engineering, or sof...</td>\n      <td>NaN</td>\n      <td>NaN</td>\n      <td>Somewhat less welcome now than last year</td>\n      <td>40.0</td>\n      <td>7</td>\n      <td>4</td>\n    </tr>\n    <tr>\n      <th>4</th>\n      <td>5</td>\n      <td>I used to be a developer by profession, but no...</td>\n      <td>Yes</td>\n      <td>31.0</td>\n      <td>16</td>\n      <td>NaN</td>\n      <td>NaN</td>\n      <td>NaN</td>\n      <td>United States</td>\n      <td>NaN</td>\n      <td>...</td>\n      <td>Easy</td>\n      <td>Too short</td>\n      <td>No</td>\n      <td>Computer science, computer engineering, or sof...</td>\n      <td>Django;Ruby on Rails</td>\n      <td>Ruby on Rails</td>\n      <td>Just as welcome now as I felt last year</td>\n      <td>NaN</td>\n      <td>15</td>\n      <td>8</td>\n    </tr>\n  </tbody>\n</table>\n<p>5 rows × 61 columns</p>\n</div>"
     },
     "metadata": {},
     "execution_count": 19
    }
   ],
   "source": [
    "import numpy as np\n",
    "import pandas as pd\n",
    "from IPython import display\n",
    "import matplotlib.pyplot as plt\n",
    "from sklearn.linear_model import LinearRegression\n",
    "from sklearn.model_selection import train_test_split\n",
    "from sklearn.metrics import r2_score, mean_squared_error\n",
    "%matplotlib inline\n",
    "\n",
    "df = pd.read_csv(r'survey_results_public_20.csv', sep = ',', error_bad_lines = False, index_col = False)\n",
    "df_schem = pd.read_csv(r'survey_results_schema_20.csv', sep = ',', error_bad_lines = False, \n",
    "                       index_col = False)\n",
    "df.head()"
   ]
  },
  {
   "source": [
    "Only work with columns that have at least 70% reported data"
   ],
   "cell_type": "markdown",
   "metadata": {}
  },
  {
   "cell_type": "code",
   "execution_count": 20,
   "metadata": {},
   "outputs": [],
   "source": [
    "def remove_nan(df, threshold):\n",
    "    df = df.dropna(axis = 1,thresh = (threshold*df.shape[0]))\n",
    "    return  df\n",
    "\n",
    "df = remove_nan(df,0.7)"
   ]
  },
  {
   "source": [
    "Remove categories irrelevant to the proejct purpose"
   ],
   "cell_type": "markdown",
   "metadata": {}
  },
  {
   "cell_type": "code",
   "execution_count": 21,
   "metadata": {},
   "outputs": [],
   "source": [
    "to_drop = ['SOAccount','SOComm','SOPartFreq','SOVisitFreq','SurveyEase','SurveyLength','WelcomeChange','NEWOffTopic']\n",
    "df = df.drop(to_drop, axis = 1)"
   ]
  },
  {
   "source": [
    "Reduce schema to represent only columns remaining in data set"
   ],
   "cell_type": "markdown",
   "metadata": {}
  },
  {
   "cell_type": "code",
   "execution_count": 22,
   "metadata": {},
   "outputs": [
    {
     "output_type": "execute_result",
     "data": {
      "text/plain": [
       "                          Column  \\\n",
       "0                     Respondent   \n",
       "1                     MainBranch   \n",
       "2                       Hobbyist   \n",
       "3                            Age   \n",
       "4                     Age1stCode   \n",
       "8                        Country   \n",
       "9                   CurrencyDesc   \n",
       "10                CurrencySymbol   \n",
       "12            DatabaseWorkedWith   \n",
       "13                       DevType   \n",
       "14                       EdLevel   \n",
       "15                    Employment   \n",
       "16                     Ethnicity   \n",
       "17                        Gender   \n",
       "18                    JobFactors   \n",
       "19                        JobSat   \n",
       "20                       JobSeek   \n",
       "21        LanguageDesireNextYear   \n",
       "22            LanguageWorkedWith   \n",
       "25  NEWCollabToolsDesireNextYear   \n",
       "26      NEWCollabToolsWorkedWith   \n",
       "29                     NEWEdImpt   \n",
       "32                      NEWLearn   \n",
       "35                 NEWOtherComms   \n",
       "38                 NEWPurpleLink   \n",
       "39                    NEWSOSites   \n",
       "40                      NEWStuck   \n",
       "41                         OpSys   \n",
       "43        PlatformDesireNextYear   \n",
       "44            PlatformWorkedWith   \n",
       "53                         Trans   \n",
       "54                UndergradMajor   \n",
       "59                     YearsCode   \n",
       "60                  YearsCodePro   \n",
       "\n",
       "                                         QuestionText  \n",
       "0   Randomized respondent ID number (not in order ...  \n",
       "1   Which of the following options best describes ...  \n",
       "2                             Do you code as a hobby?  \n",
       "3   What is your age (in years)? If you prefer not...  \n",
       "4   At what age did you write your first line of c...  \n",
       "8                                  Where do you live?  \n",
       "9   Which currency do you use day-to-day? If your ...  \n",
       "10  Which currency do you use day-to-day? If your ...  \n",
       "12  Which database environments have you done exte...  \n",
       "13  Which of the following describe you? Please se...  \n",
       "14  Which of the following best describes the high...  \n",
       "15  Which of the following best describes your cur...  \n",
       "16  Which of the following describe you, if any? P...  \n",
       "17  Which of the following describe you, if any? P...  \n",
       "18  Imagine that you are deciding between two job ...  \n",
       "19  How satisfied are you with your current job? (...  \n",
       "20  Which of the following best describes your cur...  \n",
       "21  Which programming, scripting, and markup langu...  \n",
       "22  Which programming, scripting, and markup langu...  \n",
       "25  Which collaboration tools have you done extens...  \n",
       "26  Which collaboration tools have you done extens...  \n",
       "29  How important is a formal education, such as a...  \n",
       "32  How frequently do you learn a new language or ...  \n",
       "35  Are you a member of any other online developer...  \n",
       "38  You search for a coding solution online and th...  \n",
       "39  Which of the following Stack Overflow sites ha...  \n",
       "40  What do you do when you get stuck on a problem...  \n",
       "41  What is the primary operating system in which ...  \n",
       "43  Which platforms have you done extensive develo...  \n",
       "44  Which platforms have you done extensive develo...  \n",
       "53                               Are you transgender?  \n",
       "54              What was your primary field of study?  \n",
       "59  Including any education, how many years have y...  \n",
       "60  NOT including education, how many years have y...  "
      ],
      "text/html": "<div>\n<style scoped>\n    .dataframe tbody tr th:only-of-type {\n        vertical-align: middle;\n    }\n\n    .dataframe tbody tr th {\n        vertical-align: top;\n    }\n\n    .dataframe thead th {\n        text-align: right;\n    }\n</style>\n<table border=\"1\" class=\"dataframe\">\n  <thead>\n    <tr style=\"text-align: right;\">\n      <th></th>\n      <th>Column</th>\n      <th>QuestionText</th>\n    </tr>\n  </thead>\n  <tbody>\n    <tr>\n      <th>0</th>\n      <td>Respondent</td>\n      <td>Randomized respondent ID number (not in order ...</td>\n    </tr>\n    <tr>\n      <th>1</th>\n      <td>MainBranch</td>\n      <td>Which of the following options best describes ...</td>\n    </tr>\n    <tr>\n      <th>2</th>\n      <td>Hobbyist</td>\n      <td>Do you code as a hobby?</td>\n    </tr>\n    <tr>\n      <th>3</th>\n      <td>Age</td>\n      <td>What is your age (in years)? If you prefer not...</td>\n    </tr>\n    <tr>\n      <th>4</th>\n      <td>Age1stCode</td>\n      <td>At what age did you write your first line of c...</td>\n    </tr>\n    <tr>\n      <th>8</th>\n      <td>Country</td>\n      <td>Where do you live?</td>\n    </tr>\n    <tr>\n      <th>9</th>\n      <td>CurrencyDesc</td>\n      <td>Which currency do you use day-to-day? If your ...</td>\n    </tr>\n    <tr>\n      <th>10</th>\n      <td>CurrencySymbol</td>\n      <td>Which currency do you use day-to-day? If your ...</td>\n    </tr>\n    <tr>\n      <th>12</th>\n      <td>DatabaseWorkedWith</td>\n      <td>Which database environments have you done exte...</td>\n    </tr>\n    <tr>\n      <th>13</th>\n      <td>DevType</td>\n      <td>Which of the following describe you? Please se...</td>\n    </tr>\n    <tr>\n      <th>14</th>\n      <td>EdLevel</td>\n      <td>Which of the following best describes the high...</td>\n    </tr>\n    <tr>\n      <th>15</th>\n      <td>Employment</td>\n      <td>Which of the following best describes your cur...</td>\n    </tr>\n    <tr>\n      <th>16</th>\n      <td>Ethnicity</td>\n      <td>Which of the following describe you, if any? P...</td>\n    </tr>\n    <tr>\n      <th>17</th>\n      <td>Gender</td>\n      <td>Which of the following describe you, if any? P...</td>\n    </tr>\n    <tr>\n      <th>18</th>\n      <td>JobFactors</td>\n      <td>Imagine that you are deciding between two job ...</td>\n    </tr>\n    <tr>\n      <th>19</th>\n      <td>JobSat</td>\n      <td>How satisfied are you with your current job? (...</td>\n    </tr>\n    <tr>\n      <th>20</th>\n      <td>JobSeek</td>\n      <td>Which of the following best describes your cur...</td>\n    </tr>\n    <tr>\n      <th>21</th>\n      <td>LanguageDesireNextYear</td>\n      <td>Which programming, scripting, and markup langu...</td>\n    </tr>\n    <tr>\n      <th>22</th>\n      <td>LanguageWorkedWith</td>\n      <td>Which programming, scripting, and markup langu...</td>\n    </tr>\n    <tr>\n      <th>25</th>\n      <td>NEWCollabToolsDesireNextYear</td>\n      <td>Which collaboration tools have you done extens...</td>\n    </tr>\n    <tr>\n      <th>26</th>\n      <td>NEWCollabToolsWorkedWith</td>\n      <td>Which collaboration tools have you done extens...</td>\n    </tr>\n    <tr>\n      <th>29</th>\n      <td>NEWEdImpt</td>\n      <td>How important is a formal education, such as a...</td>\n    </tr>\n    <tr>\n      <th>32</th>\n      <td>NEWLearn</td>\n      <td>How frequently do you learn a new language or ...</td>\n    </tr>\n    <tr>\n      <th>35</th>\n      <td>NEWOtherComms</td>\n      <td>Are you a member of any other online developer...</td>\n    </tr>\n    <tr>\n      <th>38</th>\n      <td>NEWPurpleLink</td>\n      <td>You search for a coding solution online and th...</td>\n    </tr>\n    <tr>\n      <th>39</th>\n      <td>NEWSOSites</td>\n      <td>Which of the following Stack Overflow sites ha...</td>\n    </tr>\n    <tr>\n      <th>40</th>\n      <td>NEWStuck</td>\n      <td>What do you do when you get stuck on a problem...</td>\n    </tr>\n    <tr>\n      <th>41</th>\n      <td>OpSys</td>\n      <td>What is the primary operating system in which ...</td>\n    </tr>\n    <tr>\n      <th>43</th>\n      <td>PlatformDesireNextYear</td>\n      <td>Which platforms have you done extensive develo...</td>\n    </tr>\n    <tr>\n      <th>44</th>\n      <td>PlatformWorkedWith</td>\n      <td>Which platforms have you done extensive develo...</td>\n    </tr>\n    <tr>\n      <th>53</th>\n      <td>Trans</td>\n      <td>Are you transgender?</td>\n    </tr>\n    <tr>\n      <th>54</th>\n      <td>UndergradMajor</td>\n      <td>What was your primary field of study?</td>\n    </tr>\n    <tr>\n      <th>59</th>\n      <td>YearsCode</td>\n      <td>Including any education, how many years have y...</td>\n    </tr>\n    <tr>\n      <th>60</th>\n      <td>YearsCodePro</td>\n      <td>NOT including education, how many years have y...</td>\n    </tr>\n  </tbody>\n</table>\n</div>"
     },
     "metadata": {},
     "execution_count": 22
    }
   ],
   "source": [
    "def remove_schema_rows(df,schema):\n",
    "    col_names = list(df.columns)\n",
    "    new_schema = schema[~schema.Column.isin(col_names) == False]\n",
    "    return new_schema\n",
    "\n",
    "remove_schema_rows(df,df_schem)"
   ]
  },
  {
   "source": [
    "Save cleaned data files"
   ],
   "cell_type": "markdown",
   "metadata": {}
  },
  {
   "cell_type": "code",
   "execution_count": 23,
   "metadata": {},
   "outputs": [],
   "source": [
    "df.to_csv(r'C:\\\\Users\\\\Jessica\\\\pj1_stackoverflow\\\\pj1-stackoverflow\\\\reduced_data.csv', index = False)\n",
    "df_schem.to_csv(\n",
    "    r'C:\\\\Users\\\\Jessica\\\\pj1_stackoverflow\\\\pj1-stackoverflow\\\\reduced_data_schema.csv', index = False)"
   ]
  },
  {
   "cell_type": "code",
   "execution_count": null,
   "metadata": {},
   "outputs": [],
   "source": []
  }
 ]
}